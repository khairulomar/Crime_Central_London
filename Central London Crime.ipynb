{
 "cells": [
  {
   "cell_type": "code",
   "execution_count": 53,
   "metadata": {},
   "outputs": [],
   "source": [
    "import requests\n",
    "import pandas as pd\n",
    "import numpy as np\n",
    "import json\n",
    "import matplotlib.pyplot as plt\n",
    "import seaborn as sns\n",
    "%matplotlib inline\n",
    "import progressbar\n",
    "import re\n",
    "from scipy.stats import f_oneway\n",
    "from scipy.stats  import chisquare\n",
    "from time import sleep\n",
    "import folium"
   ]
  },
  {
   "cell_type": "code",
   "execution_count": 5,
   "metadata": {},
   "outputs": [
    {
     "name": "stderr",
     "output_type": "stream",
     "text": [
      "100% |########################################################################|\n"
     ]
    }
   ],
   "source": [
    "lat=51.517094\n",
    "long=-0.088761\n",
    "url = 'https://data.police.uk/api/crimes-street/all-crime?lat={}&lng={}&date={}'\n",
    "date_range=pd.date_range('2016-12-1','2019-11-30',freq='MS').strftime(\"%Y-%m\").tolist()\n",
    "crime_df=pd.DataFrame()\n",
    "pb = progressbar.ProgressBar()\n",
    "for date in pb(date_range):\n",
    "    crime = requests.get(url.format(lat,long,date))\n",
    "    crime=crime.json()\n",
    "    crime_df=crime_df.append(crime)\n",
    "    sleep(0.4)\n",
    "crime_df.reset_index(drop=True,inplace=True)"
   ]
  },
  {
   "cell_type": "code",
   "execution_count": 6,
   "metadata": {},
   "outputs": [],
   "source": [
    "crime_df.to_csv('crime.csv')"
   ]
  },
  {
   "cell_type": "code",
   "execution_count": 8,
   "metadata": {},
   "outputs": [],
   "source": [
    "crime_df['latitude'] = crime_df['location'].apply(lambda x:x['latitude'])\n",
    "crime_df['longitude'] = crime_df['location'].apply(lambda x:x['longitude'])\n",
    "crime_df['date_outcome'] = crime_df[~crime_df['outcome_status'].isna()]['outcome_status'].apply(lambda x:x['date'])\n",
    "crime_df['outcome'] = crime_df[~crime_df['outcome_status'].isna()]['outcome_status'].apply(lambda x: x['category'])\n",
    "crime_df = crime_df.drop(columns=['location','location_type','context','outcome_status','persistent_id','id','location_subtype'])"
   ]
  },
  {
   "cell_type": "code",
   "execution_count": 10,
   "metadata": {},
   "outputs": [
    {
     "name": "stderr",
     "output_type": "stream",
     "text": [
      "100% |########################################################################|\n"
     ]
    }
   ],
   "source": [
    "lat=51.517094\n",
    "long=-0.088761\n",
    "\n",
    "url = 'https://data.police.uk/api/stops-street?lat={}&lng={}&date={}'\n",
    "date_range=pd.date_range('2016-12-1','2019-11-30',freq='MS').strftime(\"%Y-%m\").tolist()\n",
    "stopsearch_df=pd.DataFrame()\n",
    "pb = progressbar.ProgressBar()\n",
    "for date in pb(date_range):\n",
    "    stopsearch = requests.get(url.format(lat,long,date))\n",
    "    stopsearch=stopsearch.json()\n",
    "    stopsearch_df=stopsearch_df.append(stopsearch)\n",
    "    \n",
    "stopsearch_df.reset_index(drop=True,inplace=True)"
   ]
  },
  {
   "cell_type": "code",
   "execution_count": 11,
   "metadata": {},
   "outputs": [],
   "source": [
    "stopsearch_df.to_csv('stopsearch.csv')"
   ]
  },
  {
   "cell_type": "code",
   "execution_count": 12,
   "metadata": {},
   "outputs": [
    {
     "data": {
      "text/html": [
       "<div>\n",
       "<style scoped>\n",
       "    .dataframe tbody tr th:only-of-type {\n",
       "        vertical-align: middle;\n",
       "    }\n",
       "\n",
       "    .dataframe tbody tr th {\n",
       "        vertical-align: top;\n",
       "    }\n",
       "\n",
       "    .dataframe thead th {\n",
       "        text-align: right;\n",
       "    }\n",
       "</style>\n",
       "<table border=\"1\" class=\"dataframe\">\n",
       "  <thead>\n",
       "    <tr style=\"text-align: right;\">\n",
       "      <th></th>\n",
       "      <th>age_range</th>\n",
       "      <th>outcome</th>\n",
       "      <th>involved_person</th>\n",
       "      <th>self_defined_ethnicity</th>\n",
       "      <th>gender</th>\n",
       "      <th>legislation</th>\n",
       "      <th>outcome_linked_to_object_of_search</th>\n",
       "      <th>datetime</th>\n",
       "      <th>removal_of_more_than_outer_clothing</th>\n",
       "      <th>outcome_object</th>\n",
       "      <th>location</th>\n",
       "      <th>operation</th>\n",
       "      <th>officer_defined_ethnicity</th>\n",
       "      <th>type</th>\n",
       "      <th>operation_name</th>\n",
       "      <th>object_of_search</th>\n",
       "      <th>latitude</th>\n",
       "      <th>longitude</th>\n",
       "      <th>outcome_name</th>\n",
       "    </tr>\n",
       "  </thead>\n",
       "  <tbody>\n",
       "    <tr>\n",
       "      <td>0</td>\n",
       "      <td>over 34</td>\n",
       "      <td>Suspect arrested</td>\n",
       "      <td>True</td>\n",
       "      <td>White - White British (W1)</td>\n",
       "      <td>Male</td>\n",
       "      <td>Misuse of Drugs Act 1971 (section 23)</td>\n",
       "      <td>True</td>\n",
       "      <td>2016-12-02T23:20:00+00:00</td>\n",
       "      <td>False</td>\n",
       "      <td>{'id': 'arrest', 'name': 'Suspect arrested'}</td>\n",
       "      <td>{'latitude': '51.525800', 'street': {'id': 148...</td>\n",
       "      <td>None</td>\n",
       "      <td>White</td>\n",
       "      <td>Person search</td>\n",
       "      <td>None</td>\n",
       "      <td>Controlled drugs</td>\n",
       "      <td>51.525800</td>\n",
       "      <td>-0.087601</td>\n",
       "      <td>Suspect arrested</td>\n",
       "    </tr>\n",
       "    <tr>\n",
       "      <td>1</td>\n",
       "      <td>25-34</td>\n",
       "      <td>Offender given drugs possession warning</td>\n",
       "      <td>True</td>\n",
       "      <td>Mixed - Any other Mixed ethnic background (M9)</td>\n",
       "      <td>Male</td>\n",
       "      <td>Misuse of Drugs Act 1971 (section 23)</td>\n",
       "      <td>True</td>\n",
       "      <td>2016-12-02T21:37:00+00:00</td>\n",
       "      <td>False</td>\n",
       "      <td>{'id': 'drugs', 'name': 'Offender given drugs ...</td>\n",
       "      <td>{'latitude': '51.525800', 'street': {'id': 148...</td>\n",
       "      <td>None</td>\n",
       "      <td>White</td>\n",
       "      <td>Person search</td>\n",
       "      <td>None</td>\n",
       "      <td>Controlled drugs</td>\n",
       "      <td>51.525800</td>\n",
       "      <td>-0.087601</td>\n",
       "      <td>Offender given drugs possession warning</td>\n",
       "    </tr>\n",
       "  </tbody>\n",
       "</table>\n",
       "</div>"
      ],
      "text/plain": [
       "  age_range                                  outcome  involved_person  \\\n",
       "0   over 34                         Suspect arrested             True   \n",
       "1     25-34  Offender given drugs possession warning             True   \n",
       "\n",
       "                           self_defined_ethnicity gender  \\\n",
       "0                      White - White British (W1)   Male   \n",
       "1  Mixed - Any other Mixed ethnic background (M9)   Male   \n",
       "\n",
       "                             legislation outcome_linked_to_object_of_search  \\\n",
       "0  Misuse of Drugs Act 1971 (section 23)                               True   \n",
       "1  Misuse of Drugs Act 1971 (section 23)                               True   \n",
       "\n",
       "                    datetime removal_of_more_than_outer_clothing  \\\n",
       "0  2016-12-02T23:20:00+00:00                               False   \n",
       "1  2016-12-02T21:37:00+00:00                               False   \n",
       "\n",
       "                                      outcome_object  \\\n",
       "0       {'id': 'arrest', 'name': 'Suspect arrested'}   \n",
       "1  {'id': 'drugs', 'name': 'Offender given drugs ...   \n",
       "\n",
       "                                            location operation  \\\n",
       "0  {'latitude': '51.525800', 'street': {'id': 148...      None   \n",
       "1  {'latitude': '51.525800', 'street': {'id': 148...      None   \n",
       "\n",
       "  officer_defined_ethnicity           type operation_name  object_of_search  \\\n",
       "0                     White  Person search           None  Controlled drugs   \n",
       "1                     White  Person search           None  Controlled drugs   \n",
       "\n",
       "    latitude  longitude                             outcome_name  \n",
       "0  51.525800  -0.087601                         Suspect arrested  \n",
       "1  51.525800  -0.087601  Offender given drugs possession warning  "
      ]
     },
     "execution_count": 12,
     "metadata": {},
     "output_type": "execute_result"
    }
   ],
   "source": [
    "stopsearch_df['latitude'] = stopsearch_df['location'].apply(lambda x:x['latitude'])\n",
    "stopsearch_df['longitude'] = stopsearch_df['location'].apply(lambda x:x['longitude'])\n",
    "stopsearch_df['outcome_name'] = stopsearch_df[~stopsearch_df['outcome_object'].isna()]['outcome_object'].apply(lambda x: x['name'])\n",
    "stopsearch_df.head(2)"
   ]
  },
  {
   "cell_type": "code",
   "execution_count": 13,
   "metadata": {},
   "outputs": [],
   "source": [
    "stopsearch_df['self_defined_ethnicity'] = stopsearch_df['self_defined_ethnicity'].apply(lambda x:re.split('/|,| ',str(x))[0])"
   ]
  },
  {
   "cell_type": "code",
   "execution_count": 14,
   "metadata": {},
   "outputs": [],
   "source": [
    "stopsearch_df.loc[stopsearch_df['self_defined_ethnicity'].isin(['Not','None']),'self_defined_ethnicity']='Other'\n",
    "stopsearch_df.loc[stopsearch_df['self_defined_ethnicity'].str.startswith('Chinese'),'self_defined_ethnicity']='Asian'"
   ]
  },
  {
   "cell_type": "code",
   "execution_count": 15,
   "metadata": {},
   "outputs": [],
   "source": [
    "stopsearch_df = stopsearch_df[['age_range','involved_person','self_defined_ethnicity',\n",
    "               'gender','datetime','officer_defined_ethnicity','object_of_search','latitude',\n",
    "              'longitude','outcome_name']]"
   ]
  },
  {
   "cell_type": "code",
   "execution_count": 16,
   "metadata": {},
   "outputs": [
    {
     "data": {
      "image/png": "[encoded data removed]",
      "text/plain": [
       "<Figure size 720x432 with 1 Axes>"
      ]
     },
     "metadata": {
      "needs_background": "light"
     },
     "output_type": "display_data"
    }
   ],
   "source": [
    "plt.figure(figsize=(10,6))\n",
    "sns.countplot(data = stopsearch_df, x = 'self_defined_ethnicity', hue='officer_defined_ethnicity')\n",
    "plt.show()"
   ]
  },
  {
   "cell_type": "code",
   "execution_count": 17,
   "metadata": {},
   "outputs": [],
   "source": [
    "#Local authority\tWhite\tMixed\tAsian\tBlack\tOther\n",
    "#City of London\t78.6\t3.9\t12.7\t2.6\t2.1"
   ]
  },
  {
   "cell_type": "code",
   "execution_count": 18,
   "metadata": {},
   "outputs": [],
   "source": [
    "crime_df['crime_severity'] = crime_df['category'].map({'anti-social-behaviour' : 5, 'bicycle-theft' : 15, 'burglary' : 465,\n",
    "       'criminal-damage-arson' : 442, 'drugs' : 9, 'other-theft' : 37,\n",
    "       'possession-of-weapons': 71, 'public-order': 73, 'robbery': 800, 'shoplifting': 12,\n",
    "       'theft-from-the-person': 80, 'vehicle-crime': 9, 'violent-crime': 1447,\n",
    "       'other-crime': 5})"
   ]
  },
  {
   "cell_type": "code",
   "execution_count": 19,
   "metadata": {},
   "outputs": [],
   "source": [
    "crime_df['crime_month'] = pd.DatetimeIndex(crime_df['month']).month"
   ]
  },
  {
   "cell_type": "code",
   "execution_count": 24,
   "metadata": {},
   "outputs": [
    {
     "data": {
      "text/plain": [
       "F_onewayResult(statistic=2.169319628630795, pvalue=0.08935620196776364)"
      ]
     },
     "execution_count": 24,
     "metadata": {},
     "output_type": "execute_result"
    }
   ],
   "source": [
    "f_oneway(list(crime_df[crime_df['crime_month'].isin([3,4,5])]['crime_severity']),\n",
    "        list(crime_df[crime_df['crime_month'].isin([6,7,8])]['crime_severity']),\n",
    "         list(crime_df[crime_df['crime_month'].isin([9,10,11])]['crime_severity']),\n",
    "         list(crime_df[crime_df['crime_month'].isin([12,1,2])]['crime_severity']))"
   ]
  },
  {
   "cell_type": "code",
   "execution_count": 25,
   "metadata": {},
   "outputs": [
    {
     "data": {
      "text/plain": [
       "F_onewayResult(statistic=5.43669040155633, pvalue=0.0043551567917107)"
      ]
     },
     "execution_count": 25,
     "metadata": {},
     "output_type": "execute_result"
    }
   ],
   "source": [
    "f_oneway(list(crime_df[crime_df['crime_month'].isin([3,4,5,6])]['crime_severity']),\n",
    "        list(crime_df[crime_df['crime_month'].isin([7,8,9,10])]['crime_severity']),\n",
    "         list(crime_df[crime_df['crime_month'].isin([11,12,1,2])]['crime_severity']))"
   ]
  },
  {
   "cell_type": "code",
   "execution_count": 20,
   "metadata": {},
   "outputs": [
    {
     "data": {
      "text/plain": [
       "[<matplotlib.lines.Line2D at 0x1a1376e050>]"
      ]
     },
     "execution_count": 20,
     "metadata": {},
     "output_type": "execute_result"
    },
    {
     "data": {
      "image/png": "[encoded data removed]",
      "text/plain": [
       "<Figure size 432x288 with 1 Axes>"
      ]
     },
     "metadata": {
      "needs_background": "light"
     },
     "output_type": "display_data"
    }
   ],
   "source": [
    "plt.plot(crime_df.groupby('crime_month')['crime_severity'].mean())"
   ]
  },
  {
   "cell_type": "code",
   "execution_count": 23,
   "metadata": {
    "scrolled": true
   },
   "outputs": [
    {
     "data": {
      "text/plain": [
       "[<matplotlib.lines.Line2D at 0x1a150dc410>]"
      ]
     },
     "execution_count": 23,
     "metadata": {},
     "output_type": "execute_result"
    },
    {
     "data": {
      "image/png": "[encoded data removed]",
      "text/plain": [
       "<Figure size 432x288 with 2 Axes>"
      ]
     },
     "metadata": {
      "needs_background": "light"
     },
     "output_type": "display_data"
    }
   ],
   "source": [
    "fig, ax1 = plt.subplots()\n",
    "ax1.plot(crime_df.groupby('crime_month')['crime_severity'].count())\n",
    "ax2 = ax1.twinx()\n",
    "ax2.plot(crime_df.groupby('crime_month')['crime_severity'].mean())"
   ]
  },
  {
   "cell_type": "code",
   "execution_count": 39,
   "metadata": {},
   "outputs": [
    {
     "data": {
      "text/plain": [
       "array([nan, 'Investigation complete; no suspect identified',\n",
       "       'Status update unavailable', 'Offender given community sentence',\n",
       "       'Offender sent to prison', 'Court result unavailable',\n",
       "       'Unable to prosecute suspect', 'Defendant found not guilty',\n",
       "       'Offender given absolute discharge',\n",
       "       'Offender given penalty notice', 'Offender given a caution',\n",
       "       'Local resolution', 'Offender fined',\n",
       "       'Offender given a drugs possession warning',\n",
       "       'Offender deprived of property',\n",
       "       'Offender given conditional discharge',\n",
       "       'Formal action is not in the public interest',\n",
       "       'Offender given suspended prison sentence',\n",
       "       'Further investigation is not in the public interest',\n",
       "       'Court case unable to proceed', 'Offender otherwise dealt with',\n",
       "       'Offender ordered to pay compensation',\n",
       "       'Action to be taken by another organisation',\n",
       "       'Suspect charged as part of another case',\n",
       "       'Awaiting court outcome', 'Defendant sent to Crown Court',\n",
       "       'Under investigation'], dtype=object)"
      ]
     },
     "execution_count": 39,
     "metadata": {},
     "output_type": "execute_result"
    }
   ],
   "source": [
    "crime_df['outcome'].unique()"
   ]
  },
  {
   "cell_type": "code",
   "execution_count": 40,
   "metadata": {},
   "outputs": [],
   "source": [
    "no_suspect=crime_df[crime_df['outcome']=='Investigation complete; no suspect identified']"
   ]
  },
  {
   "cell_type": "code",
   "execution_count": 41,
   "metadata": {},
   "outputs": [
    {
     "data": {
      "text/html": [
       "<div>\n",
       "<style scoped>\n",
       "    .dataframe tbody tr th:only-of-type {\n",
       "        vertical-align: middle;\n",
       "    }\n",
       "\n",
       "    .dataframe tbody tr th {\n",
       "        vertical-align: top;\n",
       "    }\n",
       "\n",
       "    .dataframe thead th {\n",
       "        text-align: right;\n",
       "    }\n",
       "</style>\n",
       "<table border=\"1\" class=\"dataframe\">\n",
       "  <thead>\n",
       "    <tr style=\"text-align: right;\">\n",
       "      <th></th>\n",
       "      <th>category</th>\n",
       "      <th>month</th>\n",
       "      <th>latitude</th>\n",
       "      <th>longitude</th>\n",
       "      <th>date_outcome</th>\n",
       "      <th>outcome</th>\n",
       "      <th>crime_severity</th>\n",
       "      <th>crime_month</th>\n",
       "    </tr>\n",
       "  </thead>\n",
       "  <tbody>\n",
       "    <tr>\n",
       "      <td>495</td>\n",
       "      <td>bicycle-theft</td>\n",
       "      <td>2016-12</td>\n",
       "      <td>51.518949</td>\n",
       "      <td>-0.092297</td>\n",
       "      <td>2016-12</td>\n",
       "      <td>Investigation complete; no suspect identified</td>\n",
       "      <td>15</td>\n",
       "      <td>12</td>\n",
       "    </tr>\n",
       "    <tr>\n",
       "      <td>496</td>\n",
       "      <td>bicycle-theft</td>\n",
       "      <td>2016-12</td>\n",
       "      <td>51.514204</td>\n",
       "      <td>-0.106922</td>\n",
       "      <td>2017-01</td>\n",
       "      <td>Investigation complete; no suspect identified</td>\n",
       "      <td>15</td>\n",
       "      <td>12</td>\n",
       "    </tr>\n",
       "    <tr>\n",
       "      <td>498</td>\n",
       "      <td>bicycle-theft</td>\n",
       "      <td>2016-12</td>\n",
       "      <td>51.514204</td>\n",
       "      <td>-0.106922</td>\n",
       "      <td>2017-01</td>\n",
       "      <td>Investigation complete; no suspect identified</td>\n",
       "      <td>15</td>\n",
       "      <td>12</td>\n",
       "    </tr>\n",
       "    <tr>\n",
       "      <td>500</td>\n",
       "      <td>bicycle-theft</td>\n",
       "      <td>2016-12</td>\n",
       "      <td>51.515100</td>\n",
       "      <td>-0.085669</td>\n",
       "      <td>2016-12</td>\n",
       "      <td>Investigation complete; no suspect identified</td>\n",
       "      <td>15</td>\n",
       "      <td>12</td>\n",
       "    </tr>\n",
       "    <tr>\n",
       "      <td>501</td>\n",
       "      <td>bicycle-theft</td>\n",
       "      <td>2016-12</td>\n",
       "      <td>51.516966</td>\n",
       "      <td>-0.100884</td>\n",
       "      <td>2017-02</td>\n",
       "      <td>Investigation complete; no suspect identified</td>\n",
       "      <td>15</td>\n",
       "      <td>12</td>\n",
       "    </tr>\n",
       "    <tr>\n",
       "      <td>...</td>\n",
       "      <td>...</td>\n",
       "      <td>...</td>\n",
       "      <td>...</td>\n",
       "      <td>...</td>\n",
       "      <td>...</td>\n",
       "      <td>...</td>\n",
       "      <td>...</td>\n",
       "      <td>...</td>\n",
       "    </tr>\n",
       "    <tr>\n",
       "      <td>99582</td>\n",
       "      <td>violent-crime</td>\n",
       "      <td>2019-11</td>\n",
       "      <td>51.521567</td>\n",
       "      <td>-0.097334</td>\n",
       "      <td>2019-11</td>\n",
       "      <td>Investigation complete; no suspect identified</td>\n",
       "      <td>1447</td>\n",
       "      <td>11</td>\n",
       "    </tr>\n",
       "    <tr>\n",
       "      <td>99594</td>\n",
       "      <td>violent-crime</td>\n",
       "      <td>2019-11</td>\n",
       "      <td>51.514276</td>\n",
       "      <td>-0.087549</td>\n",
       "      <td>2019-11</td>\n",
       "      <td>Investigation complete; no suspect identified</td>\n",
       "      <td>1447</td>\n",
       "      <td>11</td>\n",
       "    </tr>\n",
       "    <tr>\n",
       "      <td>99671</td>\n",
       "      <td>violent-crime</td>\n",
       "      <td>2019-11</td>\n",
       "      <td>51.514204</td>\n",
       "      <td>-0.106922</td>\n",
       "      <td>2019-11</td>\n",
       "      <td>Investigation complete; no suspect identified</td>\n",
       "      <td>1447</td>\n",
       "      <td>11</td>\n",
       "    </tr>\n",
       "    <tr>\n",
       "      <td>99686</td>\n",
       "      <td>violent-crime</td>\n",
       "      <td>2019-11</td>\n",
       "      <td>51.513865</td>\n",
       "      <td>-0.092625</td>\n",
       "      <td>2019-11</td>\n",
       "      <td>Investigation complete; no suspect identified</td>\n",
       "      <td>1447</td>\n",
       "      <td>11</td>\n",
       "    </tr>\n",
       "    <tr>\n",
       "      <td>99853</td>\n",
       "      <td>violent-crime</td>\n",
       "      <td>2019-11</td>\n",
       "      <td>51.519976</td>\n",
       "      <td>-0.066063</td>\n",
       "      <td>2019-11</td>\n",
       "      <td>Investigation complete; no suspect identified</td>\n",
       "      <td>1447</td>\n",
       "      <td>11</td>\n",
       "    </tr>\n",
       "  </tbody>\n",
       "</table>\n",
       "<p>24109 rows × 8 columns</p>\n",
       "</div>"
      ],
      "text/plain": [
       "            category    month   latitude  longitude date_outcome  \\\n",
       "495    bicycle-theft  2016-12  51.518949  -0.092297      2016-12   \n",
       "496    bicycle-theft  2016-12  51.514204  -0.106922      2017-01   \n",
       "498    bicycle-theft  2016-12  51.514204  -0.106922      2017-01   \n",
       "500    bicycle-theft  2016-12  51.515100  -0.085669      2016-12   \n",
       "501    bicycle-theft  2016-12  51.516966  -0.100884      2017-02   \n",
       "...              ...      ...        ...        ...          ...   \n",
       "99582  violent-crime  2019-11  51.521567  -0.097334      2019-11   \n",
       "99594  violent-crime  2019-11  51.514276  -0.087549      2019-11   \n",
       "99671  violent-crime  2019-11  51.514204  -0.106922      2019-11   \n",
       "99686  violent-crime  2019-11  51.513865  -0.092625      2019-11   \n",
       "99853  violent-crime  2019-11  51.519976  -0.066063      2019-11   \n",
       "\n",
       "                                             outcome  crime_severity  \\\n",
       "495    Investigation complete; no suspect identified              15   \n",
       "496    Investigation complete; no suspect identified              15   \n",
       "498    Investigation complete; no suspect identified              15   \n",
       "500    Investigation complete; no suspect identified              15   \n",
       "501    Investigation complete; no suspect identified              15   \n",
       "...                                              ...             ...   \n",
       "99582  Investigation complete; no suspect identified            1447   \n",
       "99594  Investigation complete; no suspect identified            1447   \n",
       "99671  Investigation complete; no suspect identified            1447   \n",
       "99686  Investigation complete; no suspect identified            1447   \n",
       "99853  Investigation complete; no suspect identified            1447   \n",
       "\n",
       "       crime_month  \n",
       "495             12  \n",
       "496             12  \n",
       "498             12  \n",
       "500             12  \n",
       "501             12  \n",
       "...            ...  \n",
       "99582           11  \n",
       "99594           11  \n",
       "99671           11  \n",
       "99686           11  \n",
       "99853           11  \n",
       "\n",
       "[24109 rows x 8 columns]"
      ]
     },
     "execution_count": 41,
     "metadata": {},
     "output_type": "execute_result"
    }
   ],
   "source": [
    "no_suspect"
   ]
  },
  {
   "cell_type": "code",
   "execution_count": 42,
   "metadata": {},
   "outputs": [
    {
     "data": {
      "image/png": "[encoded data removed]",
      "text/plain": [
       "<Figure size 1008x576 with 1 Axes>"
      ]
     },
     "metadata": {
      "needs_background": "light"
     },
     "output_type": "display_data"
    }
   ],
   "source": [
    "plt.figure(figsize=(14,8))\n",
    "sns.countplot(no_suspect['category'])\n",
    "plt.xticks(rotation=90)\n",
    "plt.show()"
   ]
  },
  {
   "cell_type": "code",
   "execution_count": 44,
   "metadata": {},
   "outputs": [],
   "source": [
    "mask1=crime_df['crime_severity']>100\n",
    "mask2=crime_df['outcome'] =='Investigation complete; no suspect identified'"
   ]
  },
  {
   "cell_type": "code",
   "execution_count": 45,
   "metadata": {},
   "outputs": [],
   "source": [
    "a1=len(crime_df[mask1&mask2])\n",
    "a2=len(crime_df[~mask1 & mask2])\n",
    "a3=len(crime_df[mask1 & ~mask2])\n",
    "a4=len(crime_df[~mask1 & ~mask2])"
   ]
  },
  {
   "cell_type": "code",
   "execution_count": 50,
   "metadata": {},
   "outputs": [],
   "source": [
    "f_obs = np.array([[a1,a2],[a3,a4]])"
   ]
  },
  {
   "cell_type": "code",
   "execution_count": 52,
   "metadata": {},
   "outputs": [
    {
     "data": {
      "text/plain": [
       "array([[ 7943, 16166],\n",
       "       [17858, 57975]])"
      ]
     },
     "execution_count": 52,
     "metadata": {},
     "output_type": "execute_result"
    }
   ],
   "source": [
    "f_obs"
   ]
  },
  {
   "cell_type": "code",
   "execution_count": 58,
   "metadata": {},
   "outputs": [
    {
     "data": {
      "text/plain": [
       "Power_divergenceResult(statistic=array([ 3810.20987559, 23576.59703808]), pvalue=array([0., 0.]))"
      ]
     },
     "execution_count": 58,
     "metadata": {},
     "output_type": "execute_result"
    }
   ],
   "source": [
    "chisquare(f_obs)"
   ]
  },
  {
   "cell_type": "code",
   "execution_count": null,
   "metadata": {},
   "outputs": [],
   "source": []
  },
  {
   "cell_type": "code",
   "execution_count": 63,
   "metadata": {},
   "outputs": [],
   "source": [
    "#Actual\n",
    "a1=len(stopsearch_df[stopsearch_df['self_defined_ethnicity']=='White'])*100/len(stopsearch_df)\n",
    "a2=len(stopsearch_df[stopsearch_df['self_defined_ethnicity']=='Black'])*100/len(stopsearch_df)\n",
    "a3=len(stopsearch_df[stopsearch_df['self_defined_ethnicity']=='Asian'])*100/len(stopsearch_df)\n",
    "a4=len(stopsearch_df[stopsearch_df['self_defined_ethnicity']=='Mixed'])*100/len(stopsearch_df)\n",
    "a5=len(stopsearch_df[stopsearch_df['self_defined_ethnicity']=='Other'])*100/len(stopsearch_df)"
   ]
  },
  {
   "cell_type": "code",
   "execution_count": 66,
   "metadata": {},
   "outputs": [],
   "source": [
    "#Expected\n",
    "e1=59.79\n",
    "e2=13.32\n",
    "e3=18.49\n",
    "e4=4.96\n",
    "e5=3.44"
   ]
  },
  {
   "cell_type": "code",
   "execution_count": 72,
   "metadata": {},
   "outputs": [],
   "source": [
    "f_obs=np.array([a1,a2,a3,a4,a5])\n",
    "f_exp=np.array([e1,e2,e3,e4,e5])"
   ]
  },
  {
   "cell_type": "code",
   "execution_count": 73,
   "metadata": {},
   "outputs": [
    {
     "data": {
      "text/plain": [
       "Power_divergenceResult(statistic=83.13425013318803, pvalue=3.7731257057129753e-17)"
      ]
     },
     "execution_count": 73,
     "metadata": {},
     "output_type": "execute_result"
    }
   ],
   "source": [
    "chisquare(f_obs,f_exp)"
   ]
  },
  {
   "cell_type": "code",
   "execution_count": null,
   "metadata": {},
   "outputs": [],
   "source": []
  }
 ],
 "metadata": {
  "kernelspec": {
   "display_name": "Python 3",
   "language": "python",
   "name": "python3"
  },
  "language_info": {
   "codemirror_mode": {
    "name": "ipython",
    "version": 3
   },
   "file_extension": ".py",
   "mimetype": "text/x-python",
   "name": "python",
   "nbconvert_exporter": "python",
   "pygments_lexer": "ipython3",
   "version": "3.7.4"
  }
 },
 "nbformat": 4,
 "nbformat_minor": 2
}
