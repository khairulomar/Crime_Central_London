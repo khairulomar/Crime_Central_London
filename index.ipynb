{
 "cells": [
  {
   "cell_type": "markdown",
   "metadata": {},
   "source": [
    "## Module 3 project - Ravi Dahiya & Khairul Omar\n",
    "### Crime statistics around Moorgate in London\n",
    "\n",
    "### Table of contents\n",
    "1. Executive summary\n",
    "2. Data import and data cleansing  \n",
    "    - Street crimes data  \n",
    "    - Police stop and search data  \n",
    "3. EDA & subsetting for hypothesis  \n",
    "    - Severity of crimes\n",
    "    - Seasonality of crimes\n",
    "    - Status of crime investigation\n",
    "    - Stop and search by ethnicity\n",
    "4. Hypothesis tests  \n",
    "    - Is there a seasonality effect between crime level and month?\n",
    "    - Is the suspect for violent crimes less likely to be identified than others?\n",
    "    - Are ethnic minorities more likely to be stopped and searched?\n",
    "5. Conclusion"
   ]
  },
  {
   "cell_type": "markdown",
   "metadata": {},
   "source": [
    "### 1. Executive summary\n",
    "\n",
    "In this study, we looked at 3-year UK Police database on street crime and stop & search conducted by the police in a 1 mile radius around Moorgate, London between Dec 2016 and Nov 2019. Upon analysing the dataset and considering other claims that were made in the media, we proceeded to come up with our own hypothesis tests to investigate the following questions:\n",
    "1. From the data, there appears to be higher level of crime in the later half of the year compared to the first half. Are the differences in crime level by month statistically significant and what may be the driver behind them?\n",
    "<br><br>\n",
    "2. Conviction rate for a crime is a matter of public concern as can shape the public perception on the effectiveness of the police force. Our data seem to suggest that suspect for violent crimes around Moorgate is less likely to be identified than others, but is this true?\n",
    "<br><br>\n",
    "3. There has been independent reports that ethnic minorities are generally more likely to be stopped and searched compared to the general population. Would our data around Moorgate come up with the same conclusion?"
   ]
  },
  {
   "cell_type": "markdown",
   "metadata": {},
   "source": [
    "### 2. Data import and data cleansing\n",
    "Data from our study is retrieve from UK Police crime database accessible via its API at https://data.police.uk/docs/"
   ]
  },
  {
   "cell_type": "code",
   "execution_count": 6,
   "metadata": {},
   "outputs": [],
   "source": [
    "# Import libraries\n",
    "\n",
    "import requests\n",
    "import pandas as pd\n",
    "import numpy as np\n",
    "import json\n",
    "import matplotlib.pyplot as plt\n",
    "import seaborn as sns\n",
    "%matplotlib inline\n",
    "import re\n",
    "from scipy.stats import f_oneway\n",
    "from scipy.stats  import chisquare\n",
    "from time import sleep\n",
    "import folium\n",
    "import progressbar"
   ]
  },
  {
   "cell_type": "markdown",
   "metadata": {},
   "source": [
    "We focus our study on the level of crime around 1 mile radius from Flatiron School in Moorgate over 3-year period between Dec 2016 and Nov 2019."
   ]
  },
  {
   "cell_type": "code",
   "execution_count": 7,
   "metadata": {},
   "outputs": [],
   "source": [
    "# Coordinates for Moorgate:\n",
    "\n",
    "lat=51.517094\n",
    "long=-0.088761"
   ]
  },
  {
   "cell_type": "markdown",
   "metadata": {},
   "source": [
    "**Data 1**<br>\n",
    "First set of data covers street crimes recorded in Moorgate:<br>\n",
    "https://data.police.uk/docs/method/crime-street/"
   ]
  },
  {
   "cell_type": "code",
   "execution_count": 160,
   "metadata": {},
   "outputs": [
    {
     "name": "stderr",
     "output_type": "stream",
     "text": [
      "100% |########################################################################|\n"
     ]
    }
   ],
   "source": [
    "# Retrieve data from UK Police street crime API\n",
    "# sleep() function added due to the imposed call limits\n",
    "\n",
    "url = 'https://data.police.uk/api/crimes-street/all-crime?lat={}&lng={}&date={}'\n",
    "date_range=pd.date_range('2016-12-1','2019-11-30',freq='MS').strftime(\"%Y-%m\").tolist()\n",
    "\n",
    "crime_df=pd.DataFrame()\n",
    "pb = progressbar.ProgressBar()\n",
    "\n",
    "for date in pb(date_range):\n",
    "    crime = requests.get(url.format(lat,long,date))\n",
    "    crime=crime.json()\n",
    "    crime_df=crime_df.append(crime)\n",
    "    sleep(1)\n",
    "    \n",
    "crime_df.reset_index(drop=True,inplace=True)"
   ]
  },
  {
   "cell_type": "code",
   "execution_count": 161,
   "metadata": {},
   "outputs": [
    {
     "data": {
      "text/html": [
       "<div>\n",
       "<style scoped>\n",
       "    .dataframe tbody tr th:only-of-type {\n",
       "        vertical-align: middle;\n",
       "    }\n",
       "\n",
       "    .dataframe tbody tr th {\n",
       "        vertical-align: top;\n",
       "    }\n",
       "\n",
       "    .dataframe thead th {\n",
       "        text-align: right;\n",
       "    }\n",
       "</style>\n",
       "<table border=\"1\" class=\"dataframe\">\n",
       "  <thead>\n",
       "    <tr style=\"text-align: right;\">\n",
       "      <th></th>\n",
       "      <th>category</th>\n",
       "      <th>location_type</th>\n",
       "      <th>location</th>\n",
       "      <th>context</th>\n",
       "      <th>outcome_status</th>\n",
       "      <th>persistent_id</th>\n",
       "      <th>id</th>\n",
       "      <th>location_subtype</th>\n",
       "      <th>month</th>\n",
       "    </tr>\n",
       "  </thead>\n",
       "  <tbody>\n",
       "    <tr>\n",
       "      <td>0</td>\n",
       "      <td>anti-social-behaviour</td>\n",
       "      <td>Force</td>\n",
       "      <td>{'latitude': '51.504648', 'street': {'id': 953...</td>\n",
       "      <td></td>\n",
       "      <td>None</td>\n",
       "      <td></td>\n",
       "      <td>53835379</td>\n",
       "      <td></td>\n",
       "      <td>2016-12</td>\n",
       "    </tr>\n",
       "  </tbody>\n",
       "</table>\n",
       "</div>"
      ],
      "text/plain": [
       "                category location_type  \\\n",
       "0  anti-social-behaviour         Force   \n",
       "\n",
       "                                            location context outcome_status  \\\n",
       "0  {'latitude': '51.504648', 'street': {'id': 953...                   None   \n",
       "\n",
       "  persistent_id        id location_subtype    month  \n",
       "0                53835379                   2016-12  "
      ]
     },
     "execution_count": 161,
     "metadata": {},
     "output_type": "execute_result"
    }
   ],
   "source": [
    "# Save API result locally as csv and preview raw data:\n",
    "\n",
    "crime_df.to_csv('crime.csv')\n",
    "crime_df.head(1)"
   ]
  },
  {
   "cell_type": "code",
   "execution_count": 162,
   "metadata": {},
   "outputs": [
    {
     "data": {
      "text/plain": [
       "category                                        bicycle-theft\n",
       "month                                                 2016-12\n",
       "latitude                                            51.515100\n",
       "longitude                                           -0.085669\n",
       "date_outcome                                          2016-12\n",
       "outcome         Investigation complete; no suspect identified\n",
       "Name: 500, dtype: object"
      ]
     },
     "execution_count": 162,
     "metadata": {},
     "output_type": "execute_result"
    }
   ],
   "source": [
    "# Split ['location'] dictionary column into latitude and longitude:\n",
    "\n",
    "crime_df['latitude']  = crime_df['location'].apply(lambda x:x['latitude'])\n",
    "crime_df['longitude'] = crime_df['location'].apply(lambda x:x['longitude'])\n",
    "\n",
    "# Split ['outcome_status'] dictionary column into outcome date and status:\n",
    "\n",
    "crime_df['date_outcome'] = crime_df[~crime_df['outcome_status'].isna()]['outcome_status'].apply(lambda x:x['date'])\n",
    "crime_df['outcome'] = crime_df[~crime_df['outcome_status'].isna()]['outcome_status'].apply(lambda x: x['category'])\n",
    "\n",
    "# Remove unwanted columns:\n",
    "\n",
    "crime_df = crime_df.drop(columns=['location','location_type','context','outcome_status','persistent_id','id','location_subtype'])\n",
    "\n",
    "# Preview cleansed dataframe:\n",
    "\n",
    "crime_df.iloc[500]"
   ]
  },
  {
   "cell_type": "markdown",
   "metadata": {},
   "source": [
    "**Data 2**<br>\n",
    "Second set data covers records on police stop and search:<br>\n",
    "https://data.police.uk/docs/method/stops-street/"
   ]
  },
  {
   "cell_type": "code",
   "execution_count": 18,
   "metadata": {},
   "outputs": [
    {
     "name": "stderr",
     "output_type": "stream",
     "text": [
      "100% |########################################################################|\n"
     ]
    }
   ],
   "source": [
    "# Retrieve data from UK Police street crime API\n",
    "\n",
    "url = 'https://data.police.uk/api/stops-street?lat={}&lng={}&date={}'\n",
    "date_range=pd.date_range('2016-12-1','2019-11-30',freq='MS').strftime(\"%Y-%m\").tolist()\n",
    "\n",
    "stopsearch_df=pd.DataFrame()\n",
    "pb = progressbar.ProgressBar()\n",
    "\n",
    "for date in pb(date_range):\n",
    "    stopsearch = requests.get(url.format(lat,long,date))\n",
    "    stopsearch=stopsearch.json()\n",
    "    stopsearch_df=stopsearch_df.append(stopsearch)\n",
    "    \n",
    "stopsearch_df.reset_index(drop=True,inplace=True)"
   ]
  },
  {
   "cell_type": "code",
   "execution_count": 27,
   "metadata": {},
   "outputs": [
    {
     "data": {
      "text/html": [
       "<div>\n",
       "<style scoped>\n",
       "    .dataframe tbody tr th:only-of-type {\n",
       "        vertical-align: middle;\n",
       "    }\n",
       "\n",
       "    .dataframe tbody tr th {\n",
       "        vertical-align: top;\n",
       "    }\n",
       "\n",
       "    .dataframe thead th {\n",
       "        text-align: right;\n",
       "    }\n",
       "</style>\n",
       "<table border=\"1\" class=\"dataframe\">\n",
       "  <thead>\n",
       "    <tr style=\"text-align: right;\">\n",
       "      <th></th>\n",
       "      <th>age_range</th>\n",
       "      <th>outcome</th>\n",
       "      <th>involved_person</th>\n",
       "      <th>self_defined_ethnicity</th>\n",
       "      <th>gender</th>\n",
       "      <th>legislation</th>\n",
       "      <th>outcome_linked_to_object_of_search</th>\n",
       "      <th>datetime</th>\n",
       "      <th>removal_of_more_than_outer_clothing</th>\n",
       "      <th>outcome_object</th>\n",
       "      <th>location</th>\n",
       "      <th>operation</th>\n",
       "      <th>officer_defined_ethnicity</th>\n",
       "      <th>type</th>\n",
       "      <th>operation_name</th>\n",
       "      <th>object_of_search</th>\n",
       "    </tr>\n",
       "  </thead>\n",
       "  <tbody>\n",
       "    <tr>\n",
       "      <td>0</td>\n",
       "      <td>over 34</td>\n",
       "      <td>Suspect arrested</td>\n",
       "      <td>True</td>\n",
       "      <td>White - White British (W1)</td>\n",
       "      <td>Male</td>\n",
       "      <td>Misuse of Drugs Act 1971 (section 23)</td>\n",
       "      <td>True</td>\n",
       "      <td>2016-12-02T23:20:00+00:00</td>\n",
       "      <td>False</td>\n",
       "      <td>{'id': 'arrest', 'name': 'Suspect arrested'}</td>\n",
       "      <td>{'latitude': '51.525800', 'street': {'id': 148...</td>\n",
       "      <td>None</td>\n",
       "      <td>White</td>\n",
       "      <td>Person search</td>\n",
       "      <td>None</td>\n",
       "      <td>Controlled drugs</td>\n",
       "    </tr>\n",
       "  </tbody>\n",
       "</table>\n",
       "</div>"
      ],
      "text/plain": [
       "  age_range           outcome  involved_person      self_defined_ethnicity  \\\n",
       "0   over 34  Suspect arrested             True  White - White British (W1)   \n",
       "\n",
       "  gender                            legislation  \\\n",
       "0   Male  Misuse of Drugs Act 1971 (section 23)   \n",
       "\n",
       "  outcome_linked_to_object_of_search                   datetime  \\\n",
       "0                               True  2016-12-02T23:20:00+00:00   \n",
       "\n",
       "  removal_of_more_than_outer_clothing  \\\n",
       "0                               False   \n",
       "\n",
       "                                 outcome_object  \\\n",
       "0  {'id': 'arrest', 'name': 'Suspect arrested'}   \n",
       "\n",
       "                                            location operation  \\\n",
       "0  {'latitude': '51.525800', 'street': {'id': 148...      None   \n",
       "\n",
       "  officer_defined_ethnicity           type operation_name  object_of_search  \n",
       "0                     White  Person search           None  Controlled drugs  "
      ]
     },
     "execution_count": 27,
     "metadata": {},
     "output_type": "execute_result"
    }
   ],
   "source": [
    "# Save API result locally as csv and preview raw data:\n",
    "\n",
    "stopsearch_df.to_csv('stopsearch.csv')\n",
    "stopsearch_df.head(1)"
   ]
  },
  {
   "cell_type": "code",
   "execution_count": 44,
   "metadata": {},
   "outputs": [],
   "source": [
    "# Split ['location'] dictionary column into latitude and longitude:\n",
    "\n",
    "stopsearch_df['latitude'] = stopsearch_df['location'].apply(lambda x:x['latitude'])\n",
    "stopsearch_df['longitude'] = stopsearch_df['location'].apply(lambda x:x['longitude'])\n",
    "\n",
    "# Split ['outcome_object'] dictionary column into outcome name:\n",
    "\n",
    "stopsearch_df['outcome_name'] = stopsearch_df[~stopsearch_df['outcome_object'].isna()]['outcome_object'].apply(lambda x: x['name'])"
   ]
  },
  {
   "cell_type": "code",
   "execution_count": 45,
   "metadata": {},
   "outputs": [
    {
     "data": {
      "text/plain": [
       "array(['Chinese or other ethnic group - Chinese (O1)',\n",
       "       'White - English/Welsh/Scottish/Northern Irish/British',\n",
       "       'Black/African/Caribbean/Black British - African'], dtype=object)"
      ]
     },
     "execution_count": 45,
     "metadata": {},
     "output_type": "execute_result"
    }
   ],
   "source": [
    "# Preview ethnicity to combine into categories:\n",
    "\n",
    "stopsearch_df['self_defined_ethnicity'].unique()[17:20]"
   ]
  },
  {
   "cell_type": "code",
   "execution_count": 47,
   "metadata": {},
   "outputs": [],
   "source": [
    "# Select only the first word in ethnicity to combine groups and reassign minor categories:\n",
    "\n",
    "stopsearch_df['self_defined_ethnicity'] = stopsearch_df['self_defined_ethnicity'].apply(lambda x:re.split('/|,| ',str(x))[0])\n",
    "stopsearch_df.loc[stopsearch_df['self_defined_ethnicity'].isin(['Not','None']),'self_defined_ethnicity']='Other'\n",
    "stopsearch_df.loc[stopsearch_df['self_defined_ethnicity'].str.startswith('Chinese'),'self_defined_ethnicity']='Asian'"
   ]
  },
  {
   "cell_type": "code",
   "execution_count": 48,
   "metadata": {},
   "outputs": [
    {
     "data": {
      "text/html": [
       "<div>\n",
       "<style scoped>\n",
       "    .dataframe tbody tr th:only-of-type {\n",
       "        vertical-align: middle;\n",
       "    }\n",
       "\n",
       "    .dataframe tbody tr th {\n",
       "        vertical-align: top;\n",
       "    }\n",
       "\n",
       "    .dataframe thead th {\n",
       "        text-align: right;\n",
       "    }\n",
       "</style>\n",
       "<table border=\"1\" class=\"dataframe\">\n",
       "  <thead>\n",
       "    <tr style=\"text-align: right;\">\n",
       "      <th></th>\n",
       "      <th>age_range</th>\n",
       "      <th>involved_person</th>\n",
       "      <th>self_defined_ethnicity</th>\n",
       "      <th>gender</th>\n",
       "      <th>datetime</th>\n",
       "      <th>officer_defined_ethnicity</th>\n",
       "      <th>object_of_search</th>\n",
       "      <th>latitude</th>\n",
       "      <th>longitude</th>\n",
       "      <th>outcome_name</th>\n",
       "    </tr>\n",
       "  </thead>\n",
       "  <tbody>\n",
       "    <tr>\n",
       "      <td>0</td>\n",
       "      <td>over 34</td>\n",
       "      <td>True</td>\n",
       "      <td>White</td>\n",
       "      <td>Male</td>\n",
       "      <td>2016-12-02T23:20:00+00:00</td>\n",
       "      <td>White</td>\n",
       "      <td>Controlled drugs</td>\n",
       "      <td>51.525800</td>\n",
       "      <td>-0.087601</td>\n",
       "      <td>Suspect arrested</td>\n",
       "    </tr>\n",
       "  </tbody>\n",
       "</table>\n",
       "</div>"
      ],
      "text/plain": [
       "  age_range  involved_person self_defined_ethnicity gender  \\\n",
       "0   over 34             True                  White   Male   \n",
       "\n",
       "                    datetime officer_defined_ethnicity  object_of_search  \\\n",
       "0  2016-12-02T23:20:00+00:00                     White  Controlled drugs   \n",
       "\n",
       "    latitude  longitude      outcome_name  \n",
       "0  51.525800  -0.087601  Suspect arrested  "
      ]
     },
     "execution_count": 48,
     "metadata": {},
     "output_type": "execute_result"
    }
   ],
   "source": [
    "# Select relevant columns and preview cleansed data:\n",
    "\n",
    "stopsearch_df = stopsearch_df[['age_range','involved_person','self_defined_ethnicity',\n",
    "               'gender','datetime','officer_defined_ethnicity','object_of_search','latitude',\n",
    "              'longitude','outcome_name']]\n",
    "\n",
    "stopsearch_df.head(1)"
   ]
  },
  {
   "cell_type": "markdown",
   "metadata": {},
   "source": [
    "### 3. EDA & subsetting for hypothesis"
   ]
  },
  {
   "cell_type": "markdown",
   "metadata": {},
   "source": [
    "**Severity of crimes**<br><br>\n",
    "For types of crime, we have the option of either treating them as categorical variables or assign numerical values to them for further meaningful analysis. We chose the latter and assign weights to each crime category based on the severity index published by Office of National Statistics (ONS). For example, ONS assigns a severity of 800 for robbery (as a serious crime) while shopliffting gets severity index of 12 (less serious crime):<br>\n",
    "https://www.ons.gov.uk/peoplepopulationandcommunity/crimeandjustice/datasets/crimeseverityscoreexperimentalstatistics"
   ]
  },
  {
   "cell_type": "code",
   "execution_count": 179,
   "metadata": {},
   "outputs": [],
   "source": [
    "# Assign severity index values to each crime category\n",
    "\n",
    "crime_df['crime_severity'] = crime_df['category'].map({'anti-social-behaviour': 5,'bicycle-theft': 15,\n",
    "                                                       'burglary': 465, 'criminal-damage-arson': 442,\n",
    "                                                       'drugs': 9, 'other-theft': 37,\n",
    "                                                       'possession-of-weapons': 71, 'public-order': 73,\n",
    "                                                       'robbery': 800, 'shoplifting': 12,\n",
    "                                                       'theft-from-the-person': 80, 'vehicle-crime': 9,\n",
    "                                                       'violent-crime': 1447, 'other-crime': 5})"
   ]
  },
  {
   "cell_type": "markdown",
   "metadata": {},
   "source": [
    "**Seasonality of crimes**<br><br>\n",
    "Using the index above and the number of reported cases, we could then assess the level of overall crime around Moorgate. We'll first see if there is a seasonality effect between the level of crime and month."
   ]
  },
  {
   "cell_type": "code",
   "execution_count": 170,
   "metadata": {},
   "outputs": [
    {
     "data": {
      "image/png": "[encoded data removed]",
      "text/plain": [
       "<Figure size 432x288 with 2 Axes>"
      ]
     },
     "metadata": {
      "needs_background": "light"
     },
     "output_type": "display_data"
    }
   ],
   "source": [
    "# Visualize the severity of crimes and number of crimes by month\n",
    "\n",
    "crime_df['crime_month'] = pd.DatetimeIndex(crime_df['month']).month\n",
    "crime_severity = crime_df.groupby('crime_month')['crime_severity'].count()\n",
    "crime_count = crime_df.groupby('crime_month')['crime_severity'].mean()\n",
    "\n",
    "fig, ax1 = plt.subplots()\n",
    "ax1.plot(crime_severity, c='r', label='Sum of crime severity')\n",
    "ax1.set_ylabel('Sum of crime severity index')\n",
    "ax1.set_xlabel('Calendar month')\n",
    "ax2 = ax1.twinx()\n",
    "ax2.plot(crime_count, c='b', label='Number of crime cases')\n",
    "ax2.set_ylabel('Number of crime cases')\n",
    "ax2.set_title('Plot 1: Crime severity index and counts by month, Dec-16 to Nov-19')\n",
    "plt.legend()\n",
    "plt.show()"
   ]
  },
  {
   "cell_type": "markdown",
   "metadata": {},
   "source": [
    "**Status of crime investigation**<br><br>\n",
    "There has also been concerns that convinction rates may not be as high as expected, an example of this is highlighted in the following news report: https://www.independent.co.uk/news/uk/crime/crime-statistics-uk-justice-prosecution-rates-rape-victims-disclosure-police-funding-a8747191.html\n",
    "<br><br>\n",
    "We wish to investigate the prevalence of where no suspect is identified for reported crimes. This would be particularly concerning for serious crimes where the suspect may still be at large."
   ]
  },
  {
   "cell_type": "code",
   "execution_count": 171,
   "metadata": {},
   "outputs": [
    {
     "data": {
      "text/plain": [
       "Status update unavailable                        0.495841\n",
       "Investigation complete; no suspect identified    0.288931\n",
       "Under investigation                              0.099159\n",
       "Unable to prosecute suspect                      0.020793\n",
       "Court result unavailable                         0.019415\n",
       "Local resolution                                 0.014369\n",
       "Offender given a caution                         0.010942\n",
       "Awaiting court outcome                           0.009971\n",
       "Offender given a drugs possession warning        0.008761\n",
       "Offender sent to prison                          0.005980\n",
       "Name: outcome, dtype: float64"
      ]
     },
     "execution_count": 171,
     "metadata": {},
     "output_type": "execute_result"
    }
   ],
   "source": [
    "# Top 10 investigation status and % of sample:\n",
    "\n",
    "crime_df['outcome'].value_counts(normalize=True)[0:10]"
   ]
  },
  {
   "cell_type": "code",
   "execution_count": 172,
   "metadata": {},
   "outputs": [
    {
     "data": {
      "image/png": "[encoded data removed]",
      "text/plain": [
       "<Figure size 720x288 with 1 Axes>"
      ]
     },
     "metadata": {
      "needs_background": "light"
     },
     "output_type": "display_data"
    }
   ],
   "source": [
    "# Subset only cases where no suspect is identified (29% of our data)\n",
    "\n",
    "no_suspect = crime_df[crime_df['outcome']=='Investigation complete; no suspect identified']\n",
    "\n",
    "plt.figure(figsize=(10,4))\n",
    "sns.countplot(no_suspect['category']).set_title('Plot 2: Count of cases with no suspect identified by crime type')\n",
    "plt.xticks(rotation=90)\n",
    "plt.show()"
   ]
  },
  {
   "cell_type": "markdown",
   "metadata": {},
   "source": [
    "**Stop and search by ethnicity**<br><br>\n",
    "There has been news reports that certain ethnicities are more likely to be unjustifiably stopped for searching by the Police. Our second set of data contains ethnicity information wish we could explore. Futher information about concerns on racial profiling can be found here:\n",
    "https://www.libertyhumanrights.org.uk/human-rights/justice-and-fair-trials/stop-and-search/stop-and-search-what-you-need-know"
   ]
  },
  {
   "cell_type": "code",
   "execution_count": 173,
   "metadata": {},
   "outputs": [
    {
     "data": {
      "image/png": "[encoded data removed]",
      "text/plain": [
       "<Figure size 720x288 with 1 Axes>"
      ]
     },
     "metadata": {
      "needs_background": "light"
     },
     "output_type": "display_data"
    }
   ],
   "source": [
    "# Plot ethnicity information\n",
    "\n",
    "plt.figure(figsize=(10,4))\n",
    "sns.countplot(data=stopsearch_df, x='self_defined_ethnicity',\n",
    "              hue='officer_defined_ethnicity').set_title('Plot 3: Ethnicity of person stopped for search and the searching officer, Dec-16 to Nov-19')\n",
    "plt.show()"
   ]
  },
  {
   "cell_type": "markdown",
   "metadata": {},
   "source": [
    "### 4. Hypothesis tests"
   ]
  },
  {
   "cell_type": "markdown",
   "metadata": {},
   "source": [
    "**Test 1: Is there a seasonality effect between crime level and month?**\n",
    "<br><br>\n",
    "The plot of crime level vs. month shown in the previous section (Plot 1) shows that there appears to be more crimes in the early months of the year compared to the later months. This potential seasonality effect can be explored more based the following subsetting of data:\n",
    "- Temperature: does temperature affect crime rate around Moorgate? Jan being the coldest month and Jul being the warmest.\n",
    "- Business activity: as a financial centre with small local population, Moorgate activity is less during holiday periods (Easter, peak summer, Christmas and New Year). Are there more crimes during busier months?\n",
    "\n",
    "Our hypotheses are as follows:\n",
    "- H0:\n",
    "- H1:\n",
    "\n",
    "The most suited test for our hypotheses would be one-way Anova:"
   ]
  },
  {
   "cell_type": "code",
   "execution_count": 178,
   "metadata": {},
   "outputs": [
    {
     "data": {
      "text/plain": [
       "F_onewayResult(statistic=0.26495040072741716, pvalue=0.7672445427166527)"
      ]
     },
     "execution_count": 178,
     "metadata": {},
     "output_type": "execute_result"
    }
   ],
   "source": [
    "# Categorize months based on temperature:\n",
    "\n",
    "cold_months     = [1,2,11,12]\n",
    "mid_temp_months = [3,4,9,10]\n",
    "warm_months     = [5,6,7,8]\n",
    "\n",
    "f_oneway(list(crime_df[crime_df['crime_month'].isin(cold_months)]['crime_severity']),\n",
    "         list(crime_df[crime_df['crime_month'].isin(mid_temp_months)]['crime_severity']),\n",
    "         list(crime_df[crime_df['crime_month'].isin(warm_months)]['crime_severity']))"
   ]
  },
  {
   "cell_type": "code",
   "execution_count": 175,
   "metadata": {},
   "outputs": [
    {
     "data": {
      "text/plain": [
       "F_onewayResult(statistic=0.12211839862312619, pvalue=0.7267489127937097)"
      ]
     },
     "execution_count": 175,
     "metadata": {},
     "output_type": "execute_result"
    }
   ],
   "source": [
    "# Categorize months based on business activity:\n",
    "\n",
    "holiday_seasons = [1,4,6,7,12]\n",
    "regular_seasons = [2,3,5,8,9,10,11]\n",
    "\n",
    "f_oneway(list(crime_df[crime_df['crime_month'].isin(holiday_seasons)]['crime_severity']),\n",
    "         list(crime_df[crime_df['crime_month'].isin(regular_seasons)]['crime_severity']))"
   ]
  },
  {
   "cell_type": "code",
   "execution_count": 176,
   "metadata": {},
   "outputs": [
    {
     "data": {
      "text/plain": [
       "F_onewayResult(statistic=2.169319628630795, pvalue=0.08935620196776364)"
      ]
     },
     "execution_count": 176,
     "metadata": {},
     "output_type": "execute_result"
    }
   ],
   "source": [
    "# Categorize months based on season:\n",
    "\n",
    "spring = [3,4,5]\n",
    "summer = [6,7,8]\n",
    "autumn = [9,10,11]\n",
    "winter = [12,1,2]\n",
    "\n",
    "f_oneway(list(crime_df[crime_df['crime_month'].isin(spring)]['crime_severity']),\n",
    "         list(crime_df[crime_df['crime_month'].isin(summer)]['crime_severity']),\n",
    "         list(crime_df[crime_df['crime_month'].isin(autumn)]['crime_severity']),\n",
    "         list(crime_df[crime_df['crime_month'].isin(winter)]['crime_severity']))"
   ]
  },
  {
   "cell_type": "code",
   "execution_count": 177,
   "metadata": {},
   "outputs": [
    {
     "data": {
      "text/plain": [
       "F_onewayResult(statistic=5.43669040155633, pvalue=0.0043551567917107)"
      ]
     },
     "execution_count": 177,
     "metadata": {},
     "output_type": "execute_result"
    }
   ],
   "source": [
    "# Categorize month by ???\n",
    "\n",
    "f_oneway(list(crime_df[crime_df['crime_month'].isin([3,4,5,6])]['crime_severity']),\n",
    "         list(crime_df[crime_df['crime_month'].isin([7,8,9,10])]['crime_severity']),\n",
    "         list(crime_df[crime_df['crime_month'].isin([11,12,1,2])]['crime_severity']))"
   ]
  },
  {
   "cell_type": "markdown",
   "metadata": {},
   "source": [
    "Write conclusions here XXXXXXXXXXX"
   ]
  },
  {
   "cell_type": "markdown",
   "metadata": {},
   "source": [
    "**Test 2: Is the suspect for violent crimes less likely to be identified?**\n",
    "<br><br>\n",
    "From the first bar chart shown earlier (Plot 2), we noted that violent crime comes only second after other thefts in terms of number of cases where the suspect is not identified after investigation is completed. We therefore want to investigate this further, to see if serious crimes have a lower rate of suspect identification compared to other crimes.\n",
    "<br><br>\n",
    "Our hypotheses are as follows:\n",
    "- H0: Suspect of violent crimes are equally likely to be identified after investigation is completed as other crimes.\n",
    "- H1: Suspect of violent crimes are less likely to be identified after investigation is completed."
   ]
  },
  {
   "cell_type": "code",
   "execution_count": 165,
   "metadata": {},
   "outputs": [],
   "source": [
    "# Define cut off points for crime severity index to be considered as serious:\n",
    "\n",
    "mask1 = crime_df['crime_severity'] > 400\n",
    "mask2 = crime_df['outcome'] =='Investigation complete; no suspect identified'"
   ]
  },
  {
   "cell_type": "code",
   "execution_count": 166,
   "metadata": {},
   "outputs": [
    {
     "name": "stdout",
     "output_type": "stream",
     "text": [
      "Serious crimes with no suspect: 30.8%\n",
      "Lesser crimes with no suspect: 21.8%\n"
     ]
    },
    {
     "data": {
      "text/plain": [
       "array([[ 7943, 16166],\n",
       "       [17858, 57975]])"
      ]
     },
     "metadata": {},
     "output_type": "display_data"
    }
   ],
   "source": [
    "# Create subsets of 4 samples in chi-square test matrix:\n",
    "\n",
    "a1 = len(crime_df[ mask1 &  mask2]) # Serious crimes, no suspect identified\n",
    "a2 = len(crime_df[~mask1 &  mask2]) # Lesser crimes,  no suspect identified\n",
    "a3 = len(crime_df[ mask1 & ~mask2]) # Serious crimes, other investigation outcomes\n",
    "a4 = len(crime_df[~mask1 & ~mask2]) # Lesser crimes,  other investigation outcomes\n",
    "\n",
    "serious_rate = a1/(a1+a3)\n",
    "lesser_rate  = a2/(a2+a4)\n",
    "\n",
    "print(f'Serious crimes with no suspect: {round(serious_rate*100,1)}%\\nLesser crimes with no suspect: {round(lesser_rate*100,1)}%')\n",
    "\n",
    "f_obs = np.array([[a1,a2],[a3,a4]])\n",
    "display(f_obs)"
   ]
  },
  {
   "cell_type": "code",
   "execution_count": 167,
   "metadata": {},
   "outputs": [
    {
     "data": {
      "text/plain": [
       "Power_divergenceResult(statistic=array([ 3810.20987559, 23576.59703808]), pvalue=array([0., 0.]))"
      ]
     },
     "execution_count": 167,
     "metadata": {},
     "output_type": "execute_result"
    }
   ],
   "source": [
    "# Run chi-square test:\n",
    "\n",
    "chisquare(f_obs)"
   ]
  },
  {
   "cell_type": "markdown",
   "metadata": {},
   "source": [
    "With p-value of pratically zero, we can conclude that it is statistically signifcant that the suspect for serious crimes is less likely to be identified compared to lesser crimes comitted around Moorgate based on 2017-2019 data."
   ]
  },
  {
   "cell_type": "markdown",
   "metadata": {},
   "source": [
    "**Test 3: Are ethnic minorities more likely to be stopped and searched?**\n",
    "<br><br>\n",
    "From Plot 3 earlier we noted that the number of ethnic Asians that were stopped and searched was only slightly lower than ethnic white, although the proportion of ethnic white in the general population is far higher. We want to see if our data around Moorgate supports the claims from some organizations that ethnic minorities are more likely to be stopped and searched. Our hypotheses are as follows:\n",
    "- H0: Ethnic minorities are no more likely to be stopped and searched than the general population\n",
    "- H1: Ethnic minorities are more likely to be stopped and searched than the general population\n",
    "\n",
    "The most suited test for our categorical data is the chi-squared in order to test if the prevalence of stop and search by ethnicity is significantly different from their overall demographic composition. The expected value is taken from 2011 UK National Census for London https://www.nomisweb.co.uk/census/2011/QS201EW/view/2013265927?cols=measures"
   ]
  },
  {
   "cell_type": "code",
   "execution_count": 182,
   "metadata": {},
   "outputs": [
    {
     "data": {
      "text/plain": [
       "array([30.95, 20.47, 27.78,  3.  , 17.8 ])"
      ]
     },
     "execution_count": 182,
     "metadata": {},
     "output_type": "execute_result"
    }
   ],
   "source": [
    "# Observed % stop and search by ethnicity:\n",
    "\n",
    "a1 = len(stopsearch_df[stopsearch_df['self_defined_ethnicity']=='White'])/len(stopsearch_df)*100\n",
    "a2 = len(stopsearch_df[stopsearch_df['self_defined_ethnicity']=='Black'])/len(stopsearch_df)*100\n",
    "a3 = len(stopsearch_df[stopsearch_df['self_defined_ethnicity']=='Asian'])/len(stopsearch_df)*100\n",
    "a4 = len(stopsearch_df[stopsearch_df['self_defined_ethnicity']=='Mixed'])/len(stopsearch_df)*100\n",
    "a5 = len(stopsearch_df[stopsearch_df['self_defined_ethnicity']=='Other'])/len(stopsearch_df)*100\n",
    "\n",
    "f_obs = np.array([a1,a2,a3,a4,a5])\n",
    "f_obs.round(2)"
   ]
  },
  {
   "cell_type": "code",
   "execution_count": 180,
   "metadata": {},
   "outputs": [
    {
     "data": {
      "text/plain": [
       "array([59.79, 13.32, 18.49,  4.96,  3.44])"
      ]
     },
     "execution_count": 180,
     "metadata": {},
     "output_type": "execute_result"
    }
   ],
   "source": [
    "# Expected values % based on national census:\n",
    "\n",
    "e1 = 59.79 # White\n",
    "e2 = 13.32 # Black\n",
    "e3 = 18.49 # Asian\n",
    "e4 =  4.96 # Mixed\n",
    "e5 =  3.44 # Other\n",
    "\n",
    "f_exp = np.array([e1,e2,e3,e4,e5])\n",
    "f_exp"
   ]
  },
  {
   "cell_type": "code",
   "execution_count": 129,
   "metadata": {},
   "outputs": [
    {
     "data": {
      "text/plain": [
       "Power_divergenceResult(statistic=83.13425013318805, pvalue=3.773125705712949e-17)"
      ]
     },
     "execution_count": 129,
     "metadata": {},
     "output_type": "execute_result"
    }
   ],
   "source": [
    "# Run chi-square test\n",
    "\n",
    "chisquare(f_obs,f_exp)"
   ]
  },
  {
   "cell_type": "markdown",
   "metadata": {},
   "source": [
    "With p-values very close to zero, we can conclude that it is statistically signifcant that ethnic minorities are more likely to be stopped and searched around Moorgate based on 2017-2019 data."
   ]
  },
  {
   "cell_type": "markdown",
   "metadata": {},
   "source": [
    "### 5. Conclusion\n",
    "\n",
    "Text"
   ]
  }
 ],
 "metadata": {
  "kernelspec": {
   "display_name": "Python 3",
   "language": "python",
   "name": "python3"
  },
  "language_info": {
   "codemirror_mode": {
    "name": "ipython",
    "version": 3
   },
   "file_extension": ".py",
   "mimetype": "text/x-python",
   "name": "python",
   "nbconvert_exporter": "python",
   "pygments_lexer": "ipython3",
   "version": "3.7.4"
  }
 },
 "nbformat": 4,
 "nbformat_minor": 2
}
